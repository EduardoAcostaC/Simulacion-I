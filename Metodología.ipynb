{
  "cells": [
    {
      "cell_type": "markdown",
      "metadata": {
        "id": "view-in-github",
        "colab_type": "text"
      },
      "source": [
        "<a href=\"https://colab.research.google.com/github/EduardoAcostaC/Simulacion-I/blob/main/Metodolog%C3%ADa.ipynb\" target=\"_parent\"><img src=\"https://colab.research.google.com/assets/colab-badge.svg\" alt=\"Open In Colab\"/></a>"
      ]
    },
    {
      "cell_type": "markdown",
      "id": "a5cc0a87",
      "metadata": {
        "id": "a5cc0a87"
      },
      "source": [
        "# Metodología de la Simulación"
      ]
    },
    {
      "cell_type": "markdown",
      "id": "0e218d98",
      "metadata": {
        "id": "0e218d98"
      },
      "source": [
        "### 1. Identifique las variables\n",
        "\n",
        "Aquellas cuyo comportamiento define el comportamiento o la evoución global del sistema real."
      ]
    },
    {
      "cell_type": "markdown",
      "id": "3ebcd0f2",
      "metadata": {
        "id": "3ebcd0f2"
      },
      "source": [
        "### 2. Determine la distribución de probabilidad\n",
        "\n",
        "Elija el tipo de distribución de probabilidad que mejor defina el comportamiento aleatorio de cada una de las variables del sistema identificadas en el paso anterior."
      ]
    },
    {
      "cell_type": "markdown",
      "id": "803801d5",
      "metadata": {
        "id": "803801d5"
      },
      "source": [
        "### 3. Modele las variables aleatorias\n",
        "\n",
        "Cosntruya un modelo fiel de la aleatoriedad de las variables del sistema. Simular el comportamiento del sistema implica generar muestras aleatorias de cada variable que sigan fielmente la distribución de probabilidad correspondiente."
      ]
    },
    {
      "cell_type": "markdown",
      "id": "33709223",
      "metadata": {
        "id": "33709223"
      },
      "source": [
        "### 4. Defina el modelo del sistema y los objetivos de la simulación\n",
        "\n",
        "Fije los objetivos y diseñe un modelo del sistema real que abstraiga sus propiedades más relevantes. Todo error en el modelo (o su implementación computacional) puede dar lugar a conclusiones equivocadas.\n",
        "\n",
        "Antes de experimentar con el modelo, asegurarse de que refleja fielmente el sistema real **validando** el mismo a partir de datos reales, para ello compare los resultados obtenidos de la simulación con los producidos por el sistema."
      ]
    },
    {
      "cell_type": "markdown",
      "id": "7f853065",
      "metadata": {
        "id": "7f853065"
      },
      "source": [
        "### 5. Diseñe el experimento\n",
        "\n",
        "Diseñe un experimento así como las ejecuciones concretas del mismo, los escenarios que desea estudiar para alcanzar los objetivos fijados. El experimento consiste en generar valores de las variables cuyo comportamiento define el comportamiento del sistema y analizar este ante dichos valores."
      ]
    },
    {
      "cell_type": "markdown",
      "id": "15ae61c8",
      "metadata": {
        "id": "15ae61c8"
      },
      "source": [
        "### 6. Repita el experimento $n$ veces\n",
        "\n",
        "Así dispondrá de $n$ observaciones sobre el comportamiento del sistema, lo que permitirá entender su funcionamiento así como evaluar el desempeño del mismo frente a los diversos escenarios establecidos.\n",
        "\n",
        "El **método Monte Carlo** se basa en la **Ley Fuerte de los Grandes Números** y el **Teorema del Límite Central**."
      ]
    },
    {
      "cell_type": "markdown",
      "id": "51ce3fa1",
      "metadata": {
        "id": "51ce3fa1"
      },
      "source": [
        "## Ejemplo\n",
        "\n",
        "Calcule la probabilidad de que aparezcan dos caras lanzando tres veces una moneda al aire.\n",
        "\n",
        "1. Analíticamente.\n",
        "2. Mediante simulación."
      ]
    },
    {
      "cell_type": "markdown",
      "id": "6f1b4105",
      "metadata": {
        "id": "6f1b4105"
      },
      "source": [
        "Analiticamente:"
      ]
    },
    {
      "cell_type": "code",
      "execution_count": 2,
      "id": "bb5e678d",
      "metadata": {
        "colab": {
          "base_uri": "https://localhost:8080/"
        },
        "id": "bb5e678d",
        "outputId": "de94a192-28da-4ad8-d20b-a46cb3952654"
      },
      "outputs": [
        {
          "output_type": "stream",
          "name": "stdout",
          "text": [
            "La probabilidad de obtener dos caras en tres lanzamientos de moneda es: 0.375\n"
          ]
        }
      ],
      "source": [
        "import math as mt\n",
        "\n",
        "probabilidad = mt.comb(3,2)* 0.5 **2 * 0.5\n",
        "\n",
        "print(\"La probabilidad de obtener dos caras en tres lanzamientos de moneda es:\", probabilidad)"
      ]
    },
    {
      "cell_type": "markdown",
      "id": "564ca694",
      "metadata": {
        "id": "564ca694"
      },
      "source": [
        "Por simulación: Construimos el modelo en varios pasos."
      ]
    },
    {
      "cell_type": "markdown",
      "id": "fbbc8571",
      "metadata": {
        "id": "fbbc8571"
      },
      "source": [
        "**PASO 1**. Defina las variables que intervienen en el modelo."
      ]
    },
    {
      "cell_type": "code",
      "execution_count": 3,
      "id": "37c5f31c",
      "metadata": {
        "id": "37c5f31c"
      },
      "outputs": [],
      "source": [
        "\n",
        "N = 100\n",
        "caras = []"
      ]
    },
    {
      "cell_type": "markdown",
      "id": "4d3899f3",
      "metadata": {
        "id": "4d3899f3"
      },
      "source": [
        "**PASO 2**. Formule la distribución de probabilidad de cada variable."
      ]
    },
    {
      "cell_type": "markdown",
      "id": "fefa1334",
      "metadata": {
        "id": "fefa1334"
      },
      "source": [
        "\n",
        "|      |**Sol**|**Aguila**|\n",
        "|------|-------|----------|\n",
        "|f(x)|    0.5     |     0.5     |"
      ]
    },
    {
      "cell_type": "markdown",
      "id": "fd02116a",
      "metadata": {
        "id": "fd02116a"
      },
      "source": [
        "**PASO 3**. Enumere la distribución acumulada de probabilidad de cada variable."
      ]
    },
    {
      "cell_type": "markdown",
      "id": "59e252c6",
      "metadata": {
        "id": "59e252c6"
      },
      "source": [
        "|      |**Sol**|**Aguila**|\n",
        "|------|-------|----------|\n",
        "|f(x)  |    0.5   |    0.5      |\n",
        "|F(x)  |  0.5     |    1      |"
      ]
    },
    {
      "cell_type": "markdown",
      "id": "4852dcac",
      "metadata": {
        "id": "4852dcac"
      },
      "source": [
        "**PASO 4**. Establezca el intervalo de números aleatorios correspondiente a cada valor de cada una de las variables."
      ]
    },
    {
      "cell_type": "markdown",
      "id": "905db069",
      "metadata": {
        "id": "905db069"
      },
      "source": [
        "|           |**Sol**|**Aguila**|\n",
        "|-----------|-------|----------|\n",
        "|f(x)       |    0.5 |        0.5  |\n",
        "|F(x)       |  0.5     |        1  |\n",
        "|Intervalos |     [0, 0.5)  |      [0.5, 1)    |"
      ]
    },
    {
      "cell_type": "markdown",
      "id": "edb6b074",
      "metadata": {
        "id": "edb6b074"
      },
      "source": [
        "**PASO 5**. Genere números aleatorios."
      ]
    },
    {
      "cell_type": "code",
      "source": [
        "\n",
        "import random\n",
        "import math as mt\n",
        "\n",
        "def generar_numeros_aleatorios(N):\n",
        "\n",
        "  numeros_aleatorios = []\n",
        "  for _ in range(N):\n",
        "    numeros_aleatorios.append(random.random())\n",
        "  return numeros_aleatorios\n",
        "\n",
        "numeros_aleatorios = generar_numeros_aleatorios(N)\n",
        "print(f\"Se generaron {N} números aleatorios: {numeros_aleatorios}\")"
      ],
      "metadata": {
        "colab": {
          "base_uri": "https://localhost:8080/"
        },
        "id": "DqAUctltawRc",
        "outputId": "19a8aa04-38cd-4972-d3e4-8ce1ebed964e"
      },
      "id": "DqAUctltawRc",
      "execution_count": 27,
      "outputs": [
        {
          "output_type": "stream",
          "name": "stdout",
          "text": [
            "Se generaron 100 números aleatorios: [0.14430981176448376, 0.20370882333601614, 0.04346640111264988, 0.7164400077444429, 0.6801871421648664, 0.0760751973099073, 0.05560634289752542, 0.499905508168188, 0.790944796887997, 0.23901484046239163, 0.893614392257543, 0.09635030032343594, 0.5630242688352021, 0.17970244555770354, 0.9340028169390029, 0.749756289730678, 0.058969681030686116, 0.4711549063095587, 0.2356802145642065, 0.8811554719458119, 0.8428569999502047, 0.5383559977769994, 0.020025120514040706, 0.7634567418611857, 0.2513940114762545, 0.5868486123669145, 0.9315236880384478, 0.600324734912253, 0.5942253633559411, 0.0011616434010930377, 0.5057275708730488, 0.3508871015316968, 0.03288838515124015, 0.23820678564812703, 0.4869041588124996, 0.3090890135400286, 0.514739915408478, 0.28755225068445145, 0.2852780389781915, 0.99469319330503, 0.36139558730100396, 0.9123437388349924, 0.9475068739987087, 0.3109776351857202, 0.7491180496516261, 0.22168370197859455, 0.06316232456762683, 0.5853761820598582, 0.45380000728484904, 0.6800960075557689, 0.060376822964029686, 0.0756652946782157, 0.6024819365610123, 0.21181396786885698, 0.5402959634270259, 0.18112765005121445, 0.420414436629149, 0.7984534127229888, 0.37249170356256345, 0.053890260915154364, 0.7331564360476956, 0.7592813201352553, 0.06056384477775767, 0.09991433204749245, 0.21272008092924377, 0.6663252460696666, 0.4221238295754359, 0.9036092853857723, 0.5534048144406958, 0.05084196259306906, 0.544902274349847, 0.9888863534292258, 0.3139194506727291, 0.32197999730587523, 0.18818723785454516, 0.09255403067157508, 0.9954814899748994, 0.33849332706136204, 0.6094545419297015, 0.255384786664542, 0.7306867117552988, 0.6619609546568956, 0.4515875506694208, 0.7464274393215617, 0.5224597734134221, 0.9036504778564636, 0.8304697800035594, 0.38243176942895796, 0.49060052838327384, 0.31502158283254333, 0.7001553173464917, 0.03994237115137356, 0.34546276615316385, 0.030181345065738663, 0.6079040028219804, 0.3758056272798679, 0.7977271078710425, 0.9094002722910094, 0.38076467291525296, 0.3661876873663934]\n"
          ]
        }
      ]
    },
    {
      "cell_type": "markdown",
      "id": "f38f3396",
      "metadata": {
        "id": "f38f3396"
      },
      "source": [
        "**PASO 6**. Simule un lanzamiento."
      ]
    },
    {
      "cell_type": "markdown",
      "id": "a68ba17e",
      "metadata": {
        "id": "a68ba17e"
      },
      "source": [
        "Si Número de caras = 2       \n",
        "\n",
        "¿Aparecen dos caras? = **1**\n",
        "\n",
        "Si Número de caras ≠ 2       \n",
        "\n",
        "¿Aparecen dos caras? = **0**"
      ]
    },
    {
      "cell_type": "markdown",
      "id": "d270399e",
      "metadata": {
        "id": "d270399e"
      },
      "source": [
        "**PASO 7**. Obtenga la gráfica de estabilización que indica que el tamaño de muestra utilizado es suficiente para\n",
        "garantizar la convergencia del resultado."
      ]
    },
    {
      "cell_type": "code",
      "execution_count": 6,
      "id": "2fd22e33",
      "metadata": {
        "id": "2fd22e33"
      },
      "outputs": [],
      "source": [
        "import numpy as np\n",
        "import random\n",
        "import matplotlib.pyplot as plt"
      ]
    },
    {
      "cell_type": "code",
      "execution_count": 10,
      "id": "32719c0f",
      "metadata": {
        "id": "32719c0f"
      },
      "outputs": [],
      "source": [
        "\n",
        "# Función que lanza n monedas he indica cuántas caras se obtuvieron\n",
        "def volados(n):\n",
        "    caras = 0\n",
        "    for i in range(n):\n",
        "        u = random.uniform(0,1)\n",
        "        if u <= 0.5:\n",
        "            caras += 1\n",
        "    return caras"
      ]
    },
    {
      "cell_type": "code",
      "source": [
        "volados(3)"
      ],
      "metadata": {
        "colab": {
          "base_uri": "https://localhost:8080/"
        },
        "id": "rj7ZbHu4ZZLl",
        "outputId": "ae64839a-1b74-4226-d039-54bdce442bf6"
      },
      "id": "rj7ZbHu4ZZLl",
      "execution_count": 9,
      "outputs": [
        {
          "output_type": "execute_result",
          "data": {
            "text/plain": [
              "0"
            ]
          },
          "metadata": {},
          "execution_count": 9
        }
      ]
    },
    {
      "cell_type": "code",
      "execution_count": 15,
      "id": "423546a4",
      "metadata": {
        "id": "423546a4"
      },
      "outputs": [],
      "source": [
        "# Lanza una moneda tres veces y verifica si el número de caras obtenidas coincide con un número dado\n",
        "def caras(m):\n",
        "    favorable = 0\n",
        "    if volados(3) == m:\n",
        "        favorable +=1\n",
        "    return favorable"
      ]
    },
    {
      "cell_type": "code",
      "source": [
        "caras(2)"
      ],
      "metadata": {
        "colab": {
          "base_uri": "https://localhost:8080/"
        },
        "id": "aE9CPBbJZnXi",
        "outputId": "118f8dc0-8071-4ec8-b4d4-a265524dda65"
      },
      "id": "aE9CPBbJZnXi",
      "execution_count": 14,
      "outputs": [
        {
          "output_type": "execute_result",
          "data": {
            "text/plain": [
              "1"
            ]
          },
          "metadata": {},
          "execution_count": 14
        }
      ]
    },
    {
      "cell_type": "code",
      "execution_count": 16,
      "id": "0d2847cf",
      "metadata": {
        "id": "0d2847cf"
      },
      "outputs": [],
      "source": [
        "def experimento(iteraciones):\n",
        "    i = 0\n",
        "    favorables=0\n",
        "    Lista = []\n",
        "    while i <= iteraciones:\n",
        "        favorables = favorables + caras(2)\n",
        "        i += 1\n",
        "        probabilidad = favorables/i\n",
        "        Lista.append(probabilidad)\n",
        "    return Lista"
      ]
    },
    {
      "cell_type": "code",
      "execution_count": 24,
      "id": "548249d8",
      "metadata": {
        "id": "548249d8"
      },
      "outputs": [],
      "source": [
        "exp = experimento(500)"
      ]
    },
    {
      "cell_type": "code",
      "execution_count": 25,
      "id": "566325f4",
      "metadata": {
        "colab": {
          "base_uri": "https://localhost:8080/"
        },
        "id": "566325f4",
        "outputId": "fb326b06-0601-4e30-d232-a5d66b57a1a9"
      },
      "outputs": [
        {
          "output_type": "execute_result",
          "data": {
            "text/plain": [
              "np.float64(0.37341419732615766)"
            ]
          },
          "metadata": {},
          "execution_count": 25
        }
      ],
      "source": [
        "np.mean(exp)"
      ]
    },
    {
      "cell_type": "code",
      "execution_count": 26,
      "id": "ef68f87c",
      "metadata": {
        "colab": {
          "base_uri": "https://localhost:8080/",
          "height": 276
        },
        "id": "ef68f87c",
        "outputId": "644d396f-9119-439c-93b3-751fec0d10e3"
      },
      "outputs": [
        {
          "output_type": "display_data",
          "data": {
            "text/plain": [
              "<Figure size 640x480 with 1 Axes>"
            ],
            "image/png": "[encoded data removed]"
          },
          "metadata": {}
        }
      ],
      "source": [
        "plt.plot(exp)\n",
        "plt.xlabel('iteraciones')\n",
        "plt.ylabel('p')\n",
        "plt.title('Probabilidad de obtener 2 caras')\n",
        "plt.show()"
      ]
    },
    {
      "cell_type": "markdown",
      "id": "f596fcd1",
      "metadata": {
        "id": "f596fcd1"
      },
      "source": [
        "**PASO 8**. Replique el modelo."
      ]
    },
    {
      "cell_type": "code",
      "execution_count": 28,
      "id": "b237f0d0",
      "metadata": {
        "id": "b237f0d0"
      },
      "outputs": [],
      "source": [
        "def simulacion_caras(repeticiones):\n",
        "    List = []\n",
        "    for i in range(repeticiones):\n",
        "        List.append(np.mean(experimento(1000)))\n",
        "    return List"
      ]
    },
    {
      "cell_type": "code",
      "execution_count": 29,
      "id": "d060db89",
      "metadata": {
        "id": "d060db89"
      },
      "outputs": [],
      "source": [
        "simulacion = simulacion_caras(50)"
      ]
    },
    {
      "cell_type": "code",
      "execution_count": 30,
      "id": "cc0b958d",
      "metadata": {
        "colab": {
          "base_uri": "https://localhost:8080/",
          "height": 279
        },
        "id": "cc0b958d",
        "outputId": "1fb516bd-46e8-4f2a-9c7e-ef659bcd6aa3"
      },
      "outputs": [
        {
          "output_type": "display_data",
          "data": {
            "text/plain": [
              "<Figure size 640x480 with 1 Axes>"
            ],
            "image/png": "[encoded data removed]"
          },
          "metadata": {}
        }
      ],
      "source": [
        "plt.hist(simulacion)\n",
        "plt.xlabel('iteraciones')\n",
        "plt.ylabel('p')\n",
        "plt.title('Probabilidad')\n",
        "plt.show()"
      ]
    },
    {
      "cell_type": "markdown",
      "id": "6e9bd469",
      "metadata": {
        "id": "6e9bd469"
      },
      "source": [
        "**PASO 9**. Calcule la probabilidad de que aparezcan dos caras lanzando tres veces una moneda al aire y su desviación\n",
        "estándar."
      ]
    },
    {
      "cell_type": "code",
      "execution_count": 31,
      "id": "dbeb0461",
      "metadata": {
        "colab": {
          "base_uri": "https://localhost:8080/"
        },
        "id": "dbeb0461",
        "outputId": "4b8d84b6-d117-4c65-f6bf-4e896edeaa4c"
      },
      "outputs": [
        {
          "output_type": "execute_result",
          "data": {
            "text/plain": [
              "(np.float64(0.37384699391520243),\n",
              " np.float64(0.00044259704490808753),\n",
              " np.float64(0.02103799051497285))"
            ]
          },
          "metadata": {},
          "execution_count": 31
        }
      ],
      "source": [
        "np.mean(simulacion), np.var(simulacion), np.std(simulacion)"
      ]
    },
    {
      "cell_type": "markdown",
      "id": "db8776d2",
      "metadata": {
        "id": "db8776d2"
      },
      "source": [
        "**PASO 10**. Halle el intervalo de confianza de la probabilidad de queaparezcan dos caras lanzando tres veces una moneda\n",
        "al aire con un nivel de confianza del $95 \\%$."
      ]
    },
    {
      "cell_type": "code",
      "execution_count": 37,
      "id": "e5132329",
      "metadata": {
        "colab": {
          "base_uri": "https://localhost:8080/"
        },
        "id": "e5132329",
        "outputId": "76ac3a22-d670-4133-f9e4-9ff3bb41fe4a"
      },
      "outputs": [
        {
          "output_type": "stream",
          "name": "stdout",
          "text": [
            "[np.float64(0.33261253250585565), np.float64(0.4150814553245492)]\n"
          ]
        }
      ],
      "source": [
        "intervalo = [np.mean(simulacion) - 1.96*np.std(simulacion) , np.mean(simulacion) +1.96*np.std(simulacion)]\n",
        "print(intervalo)"
      ]
    }
  ],
  "metadata": {
    "kernelspec": {
      "display_name": "Python 3 (ipykernel)",
      "language": "python",
      "name": "python3"
    },
    "language_info": {
      "codemirror_mode": {
        "name": "ipython",
        "version": 3
      },
      "file_extension": ".py",
      "mimetype": "text/x-python",
      "name": "python",
      "nbconvert_exporter": "python",
      "pygments_lexer": "ipython3",
      "version": "3.7.3"
    },
    "colab": {
      "provenance": [],
      "include_colab_link": true
    }
  },
  "nbformat": 4,
  "nbformat_minor": 5
}