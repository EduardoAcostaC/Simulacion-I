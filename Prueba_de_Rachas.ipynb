{
  "nbformat": 4,
  "nbformat_minor": 0,
  "metadata": {
    "colab": {
      "provenance": [],
      "authorship_tag": "ABX9TyMY1WoVtxX+zEbpmVmqOY6W",
      "include_colab_link": true
    },
    "kernelspec": {
      "name": "python3",
      "display_name": "Python 3"
    },
    "language_info": {
      "name": "python"
    }
  },
  "cells": [
    {
      "cell_type": "markdown",
      "metadata": {
        "id": "view-in-github",
        "colab_type": "text"
      },
      "source": [
        "<a href=\"https://colab.research.google.com/github/EduardoAcostaC/Simulacion-I/blob/main/Prueba_de_Rachas.ipynb\" target=\"_parent\"><img src=\"https://colab.research.google.com/assets/colab-badge.svg\" alt=\"Open In Colab\"/></a>"
      ]
    },
    {
      "cell_type": "markdown",
      "source": [
        "# Prueba de Corridas (Rachas)\n",
        "\n",
        "La **prueba de corridas** es una prueba estadística no paramétrica utilizada para evaluar la aleatoriedad de una secuencia de datos. Se emplea comúnmente en pruebas de aleatoriedad para números pseudoaleatorios y en el análisis de series temporales.\n",
        "\n",
        "## Fundamento\n",
        "\n",
        "Una **corrida** se define como una secuencia de valores consecutivos con la misma característica (por ejemplo, mayor o menor que la media). La prueba cuenta el número total de corridas en la secuencia y lo compara con lo esperado bajo la hipótesis de aleatoriedad.\n",
        "\n",
        "## Hipótesis\n",
        "\n",
        "- **Hipótesis nula (H₀)**: Los datos son independientes.\n",
        "- **Hipótesis alternativa (Ha)**: Los datos no son independientes.\n",
        "\n",
        "## Cálculo del Número Esperado de Corridas\n",
        "\n",
        "Si tenemos $n$ observaciones en una categoría, el número esperado de corridas $E(R)$ y su varianza $ V(R) $ se calculan como:\n",
        "\n",
        " $\n",
        "E(R) = \\frac{2n-1}{3}\n",
        "$\n",
        "\n",
        "$\n",
        "V(R) = \\frac{16n-29}{90}\n",
        "$\n",
        "\n",
        "El estadístico de prueba se obtiene como:\n",
        "\n",
        "$\n",
        "Z = \\frac{R - E(R)}{\\sqrt{V(R)}}\n",
        "$\n",
        "\n",
        "donde $R $ es el número de corridas observadas. Si $|Z|$ es mayor que el valor crítico en una distribución normal estándar, se rechaza la hipótesis de aleatoriedad.\n",
        "\n",
        "## Aplicaciones\n",
        "\n",
        "- Evaluación de secuencias de números pseudoaleatorios.\n",
        "- Análisis de patrones en series temporales.\n",
        "- Verificación de independencia en datos binarios.\n"
      ],
      "metadata": {
        "id": "4RfX-wbChYHu"
      }
    },
    {
      "cell_type": "code",
      "source": [
        "from IPython import get_ipython\n",
        "from IPython.display import display\n",
        "# %%\n",
        "import scipy.stats as stats\n",
        "from IPython.display import Markdown, display\n",
        "\n",
        "def printmd(string):\n",
        "    display(Markdown(string))\n",
        "\n",
        "# Pruebas de corridocorrido\n",
        "\n",
        "Lista = [0.048, 0.926, 0.368, 0.787, 0.298, 0.591, 0.007, 0.437, 0.594, 0.199, 0.478, 0.551, 0.178, 0.086, 0.157, 0.166, 0.362, 0.411, 0.951, 0.401, 0.932, 0.533, 0.545, 0.772, 0.631]\n",
        "\n",
        "# Genera una lista donde se guarde el 1 y 0\n",
        "secuencia = []\n",
        "\n",
        "# Genera un ciclo donde compara el número anterior con el actual para generar 1 y 0\n",
        "for i in range(len(Lista) - 1):\n",
        "    if Lista[i] < Lista[i + 1]:\n",
        "        secuencia.append(1)\n",
        "    else:\n",
        "        secuencia.append(0)\n",
        "print(\"Secuencia:\", secuencia)\n",
        "\n",
        "# Saber el número de racha\n",
        "racha = 1\n",
        "for i in range(len(secuencia) - 1):  # Se resta 1 para evitar índice fuera de rango\n",
        "    if secuencia[i] != secuencia[i + 1]:  # Cambia de 1 a 0 o viceversa\n",
        "        racha += 1  # Aumenta la racha\n",
        "print('Número de rachas:', racha)\n",
        "\n",
        "#Calcular el valor esperado\n",
        "valor_esperado = (2 * len(Lista) - 1) / 3\n",
        "print('Valor esperado:', valor_esperado)\n",
        "\n",
        "#Calcular la varianza\n",
        "varianza_cuadrada = (16 * len(Lista) - 29) / 90\n",
        "print('Varianza cuadrada:', varianza_cuadrada)\n",
        "\n",
        "varianza = varianza_cuadrada**0.5\n",
        "print('Varianza :', varianza)\n",
        "\n",
        "#Calcular el z0\n",
        "z0 = abs((racha - valor_esperado) / varianza)\n",
        "print('Z0=', z0)\n",
        "\n",
        "# Calcular el valor crítico z_alpha/2 para un nivel de confianza del 95%\n",
        "alpha = 0.05\n",
        "z_alpha_2 = stats.norm.ppf(1 - alpha / 2)\n",
        "print('Valor crítico z_alpha/2:', z_alpha_2)\n",
        "\n",
        "# Intervalo de aceptación\n",
        "print(f'Intervalo de aceptación: [-{z_alpha_2}, {z_alpha_2}]')\n",
        "\n",
        "print(\"\")\n",
        "# Verificar si z0 cae dentro del intervalo de aceptación\n",
        "if -z_alpha_2 <= z0 <= z_alpha_2:\n",
        "    print(f\"\\033[1;32mNo se rechaza H0. X son independientes (con un nivel de confianza del {(1-alpha)*100:.2f}%). \\033[0m\") # Verde y negrita\n",
        "else:\n",
        "    print(f\"\\033[1;31mSe rechaza H0. X no son independientes (con un nivel de confianza del {(1-alpha)*100:.2f}%).\\033[0m\") # Rojo y negrita\n"
      ],
      "metadata": {
        "colab": {
          "base_uri": "https://localhost:8080/"
        },
        "id": "DqeLiN4qgEdr",
        "outputId": "aeb67e64-8c15-459f-e33c-6ef087d8370a"
      },
      "execution_count": 9,
      "outputs": [
        {
          "output_type": "stream",
          "name": "stdout",
          "text": [
            "Secuencia: [1, 0, 1, 0, 1, 0, 1, 1, 0, 1, 1, 0, 0, 1, 1, 1, 1, 1, 0, 1, 0, 1, 1, 0]\n",
            "Número de rachas: 16\n",
            "Valor esperado: 16.333333333333332\n",
            "Varianza cuadrada: 4.122222222222222\n",
            "Varianza : 2.030325644378808\n",
            "Z0= 0.16417727582577904\n",
            "Valor crítico z_alpha/2: 1.959963984540054\n",
            "Intervalo de aceptación: [-1.959963984540054, 1.959963984540054]\n",
            "\n",
            "\u001b[1;32mNo se rechaza H0. X son independientes (con un nivel de confianza del 95.00%). \u001b[0m\n"
          ]
        }
      ]
    }
  ]
}